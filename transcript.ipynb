{
 "cells": [
  {
   "cell_type": "code",
   "execution_count": 2,
   "metadata": {},
   "outputs": [],
   "source": [
    "from googletrans import Translator\n",
    "translator = Translator()\n",
    "trans_dest = 'zh-cn'"
   ]
  },
  {
   "cell_type": "code",
   "execution_count": 15,
   "metadata": {},
   "outputs": [],
   "source": [
    "import json\n",
    "import datetime\n",
    "\n",
    "def ms_to_timestamp(ms):\n",
    "    seconds, milliseconds = divmod(ms, 1000)\n",
    "    minutes, seconds = divmod(seconds, 60)\n",
    "    return f\"{minutes:02}:{seconds:02}.{milliseconds:02}\"\n",
    "\n",
    "def convert_transcript_to_lrc(transcript_file):\n",
    "    # Try reading the file with utf-8 encoding and handle potential errors\n",
    "    try:\n",
    "        with open(transcript_file, 'r', encoding='utf-8') as file:\n",
    "            data = json.load(file)\n",
    "    except UnicodeDecodeError:\n",
    "        # If utf-8 fails, try reading the file with a different encoding\n",
    "        with open(transcript_file, 'r', encoding='latin-1') as file:\n",
    "            data = json.load(file)\n",
    "\n",
    "    output_file = data['episodeName'].replace(\" \", \"_\") + '.lrc'\n",
    "    sections = data.get(\"section\", [])\n",
    "    lrc_lines = []\n",
    "\n",
    "    for section in sections:\n",
    "        start_ms = section.get(\"startMs\")\n",
    "        title = section.get(\"title\", {}).get(\"title\", \"\")\n",
    "        sentence = section.get(\"text\", {}).get(\"sentence\", {}).get(\"text\", \"\")\n",
    "        \n",
    "        if start_ms is not None:\n",
    "            timestamp = ms_to_timestamp(start_ms)\n",
    "            if title:\n",
    "                lrc_lines.append(f\"[{timestamp}] {title}\")\n",
    "                tr = translator.translate(title, src=\"de\", dest=trans_dest)\n",
    "                lrc_lines.append(f\"[{timestamp}][tr] {tr.text}\")\n",
    "            if sentence:\n",
    "                lrc_lines.append(f\"[{timestamp}] {sentence}\")\n",
    "                tr = translator.translate(sentence, src=\"de\", dest=trans_dest)\n",
    "                lrc_lines.append(f\"[{timestamp}][tr] {tr.text}\")\n",
    "\n",
    "    with open(output_file, 'w', encoding='utf-8') as file:\n",
    "        file.write(\"\\n\".join(lrc_lines))\n",
    "    print(f\"Lyrics file saved as {output_file}\")"
   ]
  },
  {
   "cell_type": "code",
   "execution_count": 16,
   "metadata": {},
   "outputs": [
    {
     "name": "stdout",
     "output_type": "stream",
     "text": [
      "Lyrics file saved as Zucker_vs._Süßstoff:_Was_ist_schlimmer?.lrc\n"
     ]
    }
   ],
   "source": [
    "transcript_file = '7weipilK8GMHjseOFwdkj0.json'\n",
    "convert_transcript_to_lrc(transcript_file)"
   ]
  }
 ],
 "metadata": {
  "kernelspec": {
   "display_name": "base",
   "language": "python",
   "name": "python3"
  },
  "language_info": {
   "codemirror_mode": {
    "name": "ipython",
    "version": 3
   },
   "file_extension": ".py",
   "mimetype": "text/x-python",
   "name": "python",
   "nbconvert_exporter": "python",
   "pygments_lexer": "ipython3",
   "version": "3.8.19"
  }
 },
 "nbformat": 4,
 "nbformat_minor": 2
}
